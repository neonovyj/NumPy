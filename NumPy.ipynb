{
 "cells": [
  {
   "cell_type": "code",
   "execution_count": 1,
   "id": "3f91450a",
   "metadata": {},
   "outputs": [],
   "source": [
    "import numpy as np"
   ]
  },
  {
   "cell_type": "markdown",
   "id": "127615af",
   "metadata": {},
   "source": [
    "## Создание массива"
   ]
  },
  {
   "cell_type": "markdown",
   "id": "3277d6db",
   "metadata": {},
   "source": [
    "#### В Python создается не массив, а список, чтобы список преобразовать в массив используется np.array()"
   ]
  },
  {
   "cell_type": "code",
   "execution_count": 2,
   "id": "43d56220",
   "metadata": {},
   "outputs": [
    {
     "data": {
      "text/plain": [
       "array([ 4,  8, 15, 16, 23, 42])"
      ]
     },
     "execution_count": 2,
     "metadata": {},
     "output_type": "execute_result"
    }
   ],
   "source": [
    "my_list=[4,8,15,16,23,42]\n",
    "array_from_list=np.array(my_list)\n",
    "array_from_list"
   ]
  },
  {
   "cell_type": "markdown",
   "id": "2c6311f1",
   "metadata": {},
   "source": [
    "#### С полученным массивом можно производить различные операции, например, умножить каждый его элемент на 10"
   ]
  },
  {
   "cell_type": "code",
   "execution_count": 3,
   "id": "5177973a",
   "metadata": {},
   "outputs": [
    {
     "data": {
      "text/plain": [
       "array([ 40,  80, 150, 160, 230, 420])"
      ]
     },
     "execution_count": 3,
     "metadata": {},
     "output_type": "execute_result"
    }
   ],
   "source": [
    "array_from_list*10"
   ]
  },
  {
   "cell_type": "markdown",
   "id": "f144081c",
   "metadata": {},
   "source": [
    "#### Создание массива из любого количества элементов, которые заполняются сами."
   ]
  },
  {
   "cell_type": "code",
   "execution_count": 4,
   "id": "e27c55ac",
   "metadata": {},
   "outputs": [
    {
     "data": {
      "text/plain": [
       "array([0, 1, 2, 3, 4, 5, 6, 7, 8, 9])"
      ]
     },
     "execution_count": 4,
     "metadata": {},
     "output_type": "execute_result"
    }
   ],
   "source": [
    "np.arange(10)"
   ]
  },
  {
   "cell_type": "markdown",
   "id": "7b2d0b9a",
   "metadata": {},
   "source": [
    "#### Создать массив можно не только с нуля"
   ]
  },
  {
   "cell_type": "code",
   "execution_count": 5,
   "id": "7fd189d8",
   "metadata": {},
   "outputs": [
    {
     "data": {
      "text/plain": [
       "array([10, 11, 12, 13, 14, 15, 16, 17, 18, 19, 20])"
      ]
     },
     "execution_count": 5,
     "metadata": {},
     "output_type": "execute_result"
    }
   ],
   "source": [
    "np.arange(10,21)"
   ]
  },
  {
   "cell_type": "markdown",
   "id": "eeef6dbe",
   "metadata": {},
   "source": [
    "#### Вычислить длину массива - len()"
   ]
  },
  {
   "cell_type": "code",
   "execution_count": 6,
   "id": "75a96e6c",
   "metadata": {},
   "outputs": [
    {
     "data": {
      "text/plain": [
       "11"
      ]
     },
     "execution_count": 6,
     "metadata": {},
     "output_type": "execute_result"
    }
   ],
   "source": [
    "len(np.arange(10,21))"
   ]
  },
  {
   "cell_type": "markdown",
   "id": "b7c881e5",
   "metadata": {},
   "source": [
    "#### Массив можно создать с определенным шагом"
   ]
  },
  {
   "cell_type": "code",
   "execution_count": 7,
   "id": "d6f1e857",
   "metadata": {
    "scrolled": true
   },
   "outputs": [
    {
     "data": {
      "text/plain": [
       "array([10, 13, 16, 19])"
      ]
     },
     "execution_count": 7,
     "metadata": {},
     "output_type": "execute_result"
    }
   ],
   "source": [
    "np.arange(10,21,3)"
   ]
  },
  {
   "cell_type": "markdown",
   "id": "2e25383e",
   "metadata": {},
   "source": [
    "## Заполение массива"
   ]
  },
  {
   "cell_type": "markdown",
   "id": "ea0454aa",
   "metadata": {},
   "source": [
    "#### zeros() - заполняет массив нулями"
   ]
  },
  {
   "cell_type": "code",
   "execution_count": 11,
   "id": "abb95785",
   "metadata": {},
   "outputs": [
    {
     "data": {
      "text/plain": [
       "array([0., 0., 0., 0., 0., 0., 0., 0., 0., 0.])"
      ]
     },
     "execution_count": 11,
     "metadata": {},
     "output_type": "execute_result"
    }
   ],
   "source": [
    "np.zeros(10)"
   ]
  },
  {
   "cell_type": "markdown",
   "id": "214ba90c",
   "metadata": {},
   "source": [
    "#### ones() - заполняет массив единицами"
   ]
  },
  {
   "cell_type": "code",
   "execution_count": 12,
   "id": "68548094",
   "metadata": {},
   "outputs": [
    {
     "data": {
      "text/plain": [
       "array([1., 1., 1., 1., 1., 1., 1., 1., 1., 1.])"
      ]
     },
     "execution_count": 12,
     "metadata": {},
     "output_type": "execute_result"
    }
   ],
   "source": [
    "np.ones(10)"
   ]
  },
  {
   "cell_type": "markdown",
   "id": "cfc9c90e",
   "metadata": {},
   "source": [
    "#### Создание многострочного массива\n",
    "\n"
   ]
  },
  {
   "cell_type": "code",
   "execution_count": 17,
   "id": "7f5e6581",
   "metadata": {},
   "outputs": [
    {
     "data": {
      "text/plain": [
       "array([[0., 0., 0.],\n",
       "       [0., 0., 0.],\n",
       "       [0., 0., 0.],\n",
       "       [0., 0., 0.],\n",
       "       [0., 0., 0.]])"
      ]
     },
     "execution_count": 17,
     "metadata": {},
     "output_type": "execute_result"
    }
   ],
   "source": [
    "np.zeros((5,3))"
   ]
  },
  {
   "cell_type": "markdown",
   "id": "acab272f",
   "metadata": {},
   "source": [
    "#### Создание массива массивов (создается 5 массивов из 3х строчек и 2х столбцов)"
   ]
  },
  {
   "cell_type": "code",
   "execution_count": 16,
   "id": "f308de0a",
   "metadata": {},
   "outputs": [
    {
     "data": {
      "text/plain": [
       "array([[[0., 0.],\n",
       "        [0., 0.],\n",
       "        [0., 0.]],\n",
       "\n",
       "       [[0., 0.],\n",
       "        [0., 0.],\n",
       "        [0., 0.]],\n",
       "\n",
       "       [[0., 0.],\n",
       "        [0., 0.],\n",
       "        [0., 0.]],\n",
       "\n",
       "       [[0., 0.],\n",
       "        [0., 0.],\n",
       "        [0., 0.]],\n",
       "\n",
       "       [[0., 0.],\n",
       "        [0., 0.],\n",
       "        [0., 0.]]])"
      ]
     },
     "execution_count": 16,
     "metadata": {},
     "output_type": "execute_result"
    }
   ],
   "source": [
    "np.zeros((5,3,2))"
   ]
  },
  {
   "cell_type": "markdown",
   "id": "ca14b3a0",
   "metadata": {},
   "source": [
    "#### Можем явно указывать тип элементов в массиве:"
   ]
  },
  {
   "cell_type": "code",
   "execution_count": 18,
   "id": "f9490cb4",
   "metadata": {},
   "outputs": [
    {
     "data": {
      "text/plain": [
       "array(['', '', '', '', '', '', '', '', '', ''], dtype='<U1')"
      ]
     },
     "execution_count": 18,
     "metadata": {},
     "output_type": "execute_result"
    }
   ],
   "source": [
    "np.zeros(10, dtype='str')"
   ]
  },
  {
   "cell_type": "markdown",
   "id": "ee5e0551",
   "metadata": {},
   "source": [
    "## linspace"
   ]
  },
  {
   "cell_type": "markdown",
   "id": "db00a577",
   "metadata": {},
   "source": [
    "#### linspace позволяет расставить числовые значения на указанном интервале через равные промежутки, retstep  возвращает размер промежутков"
   ]
  },
  {
   "cell_type": "code",
   "execution_count": 10,
   "id": "aee9f693",
   "metadata": {},
   "outputs": [
    {
     "data": {
      "text/plain": [
       "(array([ 0.,  3.,  6.,  9., 12., 15., 18., 21., 24., 27., 30.]), 3.0)"
      ]
     },
     "execution_count": 10,
     "metadata": {},
     "output_type": "execute_result"
    }
   ],
   "source": [
    "start = 0\n",
    "finish = 30\n",
    "znachenia = 11\n",
    "np.linspace(start,finish,znachenia, retstep = True)"
   ]
  },
  {
   "cell_type": "markdown",
   "id": "b9121742",
   "metadata": {},
   "source": [
    "## Вектор"
   ]
  },
  {
   "cell_type": "markdown",
   "id": "c2e4cc27",
   "metadata": {},
   "source": [
    "#### Вектор - одномерный однострочный массив"
   ]
  },
  {
   "cell_type": "code",
   "execution_count": 19,
   "id": "fe3c3951",
   "metadata": {
    "scrolled": true
   },
   "outputs": [
    {
     "data": {
      "text/plain": [
       "array([ 4,  8, 15, 16, 23, 42])"
      ]
     },
     "execution_count": 19,
     "metadata": {},
     "output_type": "execute_result"
    }
   ],
   "source": [
    "my_vector = np.array([4,8,15,16,23,42])\n",
    "my_vector"
   ]
  },
  {
   "cell_type": "markdown",
   "id": "5a8d335a",
   "metadata": {},
   "source": [
    "#### Можно присваивать любому элементу другие значение"
   ]
  },
  {
   "cell_type": "code",
   "execution_count": 20,
   "id": "8c3e8f16",
   "metadata": {},
   "outputs": [
    {
     "data": {
      "text/plain": [
       "array([ 4,  1, 15, 16, 23, 42])"
      ]
     },
     "execution_count": 20,
     "metadata": {},
     "output_type": "execute_result"
    }
   ],
   "source": [
    "my_vector[1] = 1\n",
    "my_vector"
   ]
  },
  {
   "cell_type": "markdown",
   "id": "458fc715",
   "metadata": {},
   "source": [
    "#### shape() - позволяет разделить значения массива на определенное количество строк и столбцов"
   ]
  },
  {
   "cell_type": "code",
   "execution_count": 21,
   "id": "21224ddd",
   "metadata": {},
   "outputs": [
    {
     "data": {
      "text/plain": [
       "array([[ 0,  1,  2,  3,  4],\n",
       "       [ 5,  6,  7,  8,  9],\n",
       "       [10, 11, 12, 13, 14],\n",
       "       [15, 16, 17, 18, 19],\n",
       "       [20, 21, 22, 23, 24],\n",
       "       [25, 26, 27, 28, 29],\n",
       "       [30, 31, 32, 33, 34]])"
      ]
     },
     "execution_count": 21,
     "metadata": {},
     "output_type": "execute_result"
    }
   ],
   "source": [
    "my_array = np.arange(35)\n",
    "my_array.shape = (7,5)\n",
    "my_array"
   ]
  },
  {
   "cell_type": "markdown",
   "id": "06b2be9e",
   "metadata": {},
   "source": [
    "#### Теперь, если обратиться по индексу, то выведется не конкретной элемент, а строка"
   ]
  },
  {
   "cell_type": "code",
   "execution_count": 22,
   "id": "b7b509ae",
   "metadata": {},
   "outputs": [
    {
     "data": {
      "text/plain": [
       "array([5, 6, 7, 8, 9])"
      ]
     },
     "execution_count": 22,
     "metadata": {},
     "output_type": "execute_result"
    }
   ],
   "source": [
    "my_array[1]"
   ]
  },
  {
   "cell_type": "markdown",
   "id": "3dd87f13",
   "metadata": {},
   "source": [
    "#### Чтобы обратиться к конкретному элементу, нужно указывать строку и столбец"
   ]
  },
  {
   "cell_type": "code",
   "execution_count": 23,
   "id": "a61c3599",
   "metadata": {},
   "outputs": [
    {
     "data": {
      "text/plain": [
       "27"
      ]
     },
     "execution_count": 23,
     "metadata": {},
     "output_type": "execute_result"
    }
   ],
   "source": [
    "row = 5\n",
    "coloumn = 2\n",
    "my_array[row,coloumn]"
   ]
  },
  {
   "cell_type": "markdown",
   "id": "ae05330e",
   "metadata": {},
   "source": [
    "#### Вывести, являются ли четными элементы массива"
   ]
  },
  {
   "cell_type": "code",
   "execution_count": 24,
   "id": "043ef8f0",
   "metadata": {},
   "outputs": [
    {
     "data": {
      "text/plain": [
       "array([ True,  True, False,  True, False,  True])"
      ]
     },
     "execution_count": 24,
     "metadata": {},
     "output_type": "execute_result"
    }
   ],
   "source": [
    "my_vector = np.array([4,8,15,16,23,42])\n",
    "mod_2 = (0 == my_vector%2)\n",
    "mod_2"
   ]
  },
  {
   "cell_type": "markdown",
   "id": "cb3ed910",
   "metadata": {},
   "source": [
    "#### Записываем в другой массив те элементы, которые подхолят под True"
   ]
  },
  {
   "cell_type": "code",
   "execution_count": 25,
   "id": "acc45003",
   "metadata": {},
   "outputs": [
    {
     "data": {
      "text/plain": [
       "array([ 4,  8, 16, 42])"
      ]
     },
     "execution_count": 25,
     "metadata": {},
     "output_type": "execute_result"
    }
   ],
   "source": [
    "sub_array = my_vector[mod_2]\n",
    "sub_array"
   ]
  },
  {
   "cell_type": "markdown",
   "id": "508351fa",
   "metadata": {},
   "source": [
    "#### Фильтрация в массиве"
   ]
  },
  {
   "cell_type": "code",
   "execution_count": 26,
   "id": "813c7638",
   "metadata": {},
   "outputs": [
    {
     "data": {
      "text/plain": [
       "array([16, 42])"
      ]
     },
     "execution_count": 26,
     "metadata": {},
     "output_type": "execute_result"
    }
   ],
   "source": [
    "sub_array[sub_array>10]"
   ]
  }
 ],
 "metadata": {
  "kernelspec": {
   "display_name": "Python 3 (ipykernel)",
   "language": "python",
   "name": "python3"
  },
  "language_info": {
   "codemirror_mode": {
    "name": "ipython",
    "version": 3
   },
   "file_extension": ".py",
   "mimetype": "text/x-python",
   "name": "python",
   "nbconvert_exporter": "python",
   "pygments_lexer": "ipython3",
   "version": "3.9.2"
  }
 },
 "nbformat": 4,
 "nbformat_minor": 5
}
